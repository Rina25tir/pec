{
 "cells": [
  {
   "cell_type": "code",
   "execution_count": 1,
   "id": "f59ff580",
   "metadata": {},
   "outputs": [
    {
     "name": "stdout",
     "output_type": "stream",
     "text": [
      "[[ 1  0  0  0  0  0  0  0  0  0  0  0  0  0  0  0]\n",
      " [ 0  1  0  0  0  0  0  0  0  0  0  0  0  0  0  0]\n",
      " [ 0  0 -1  0  0  0  0  0  0  0  0  0  0  0  0  0]\n",
      " [ 0  0  0 -1  0  0  0  0  0  0  0  0  0  0  0  0]\n",
      " [ 0  0  0  0  1  0  0  0  0  0  0  0  0  0  0  0]\n",
      " [ 0  0  0  0  0  1  0  0  0  0  0  0  0  0  0  0]\n",
      " [ 0  0  0  0  0  0 -1  0  0  0  0  0  0  0  0  0]\n",
      " [ 0  0  0  0  0  0  0 -1  0  0  0  0  0  0  0  0]\n",
      " [ 0  0  0  0  0  0  0  0 -1  0  0  0  0  0  0  0]\n",
      " [ 0  0  0  0  0  0  0  0  0 -1  0  0  0  0  0  0]\n",
      " [ 0  0  0  0  0  0  0  0  0  0  1  0  0  0  0  0]\n",
      " [ 0  0  0  0  0  0  0  0  0  0  0  1  0  0  0  0]\n",
      " [ 0  0  0  0  0  0  0  0  0  0  0  0 -1  0  0  0]\n",
      " [ 0  0  0  0  0  0  0  0  0  0  0  0  0 -1  0  0]\n",
      " [ 0  0  0  0  0  0  0  0  0  0  0  0  0  0  1  0]\n",
      " [ 0  0  0  0  0  0  0  0  0  0  0  0  0  0  0  1]]\n"
     ]
    }
   ],
   "source": [
    "import numpy as np\n",
    "\n",
    "# Define a 4x4 matrix\n",
    "I = np.array([\n",
    "    [1, 0, 0, 0],\n",
    "    [0, 1, 0, 0],\n",
    "    [0, 0, 1, 0],\n",
    "    [0, 0, 0, 1]\n",
    "])\n",
    "\n",
    "X = np.array([\n",
    "    [1, 0, 0, 0],\n",
    "    [0, 1, 0, 0],\n",
    "    [0, 0, -1, 0],\n",
    "    [0, 0, 0, -1]\n",
    "])\n",
    "\n",
    "Y = np.array([\n",
    "    [1, 0, 0, 0],\n",
    "    [0, -1, 0, 0],\n",
    "    [0, 0, 1, 0],\n",
    "    [0, 0, 0, -1]\n",
    "])\n",
    "\n",
    "Z = np.array([\n",
    "    [1, 0, 0, 0],\n",
    "    [0, -1, 0, 0],\n",
    "    [0, 0, -1, 0],\n",
    "    [0, 0, 0, 1]\n",
    "])\n",
    "\n",
    "\n",
    "II=np.kron(X, X)\n",
    "print(II)"
   ]
  },
  {
   "cell_type": "code",
   "execution_count": 18,
   "id": "61fb8a6d",
   "metadata": {},
   "outputs": [
    {
     "name": "stdout",
     "output_type": "stream",
     "text": [
      "[[1 0 0 0 0 0 0 0 0 0 0 0 0 0 0 0]\n",
      " [0 1/(1 - p) 0 0 0 0 0 0 0 0 0 0 0 0 0 0]\n",
      " [0 0 1/(1 - p) 0 0 0 0 0 0 0 0 0 0 0 0 0]\n",
      " [0 0 0 1/(1 - p) 0 0 0 0 0 0 0 0 0 0 0 0]\n",
      " [0 0 0 0 1/(1 - p) 0 0 0 0 0 0 0 0 0 0 0]\n",
      " [0 0 0 0 0 1/(1 - p) 0 0 0 0 0 0 0 0 0 0]\n",
      " [0 0 0 0 0 0 1/(1 - p) 0 0 0 0 0 0 0 0 0]\n",
      " [0 0 0 0 0 0 0 1/(1 - p) 0 0 0 0 0 0 0 0]\n",
      " [0 0 0 0 0 0 0 0 1/(1 - p) 0 0 0 0 0 0 0]\n",
      " [0 0 0 0 0 0 0 0 0 1/(1 - p) 0 0 0 0 0 0]\n",
      " [0 0 0 0 0 0 0 0 0 0 1/(1 - p) 0 0 0 0 0]\n",
      " [0 0 0 0 0 0 0 0 0 0 0 1/(1 - p) 0 0 0 0]\n",
      " [0 0 0 0 0 0 0 0 0 0 0 0 1/(1 - p) 0 0 0]\n",
      " [0 0 0 0 0 0 0 0 0 0 0 0 0 1/(1 - p) 0 0]\n",
      " [0 0 0 0 0 0 0 0 0 0 0 0 0 0 1/(1 - p) 0]\n",
      " [0 0 0 0 0 0 0 0 0 0 0 0 0 0 0 1/(1 - p)]]\n"
     ]
    }
   ],
   "source": [
    "import sympy as sp\n",
    "\n",
    "# Define the symbolic variable p\n",
    "p = sp.symbols('p')\n",
    "\n",
    "# Define the symbolic variables for eta values\n",
    "eta1, eta2, eta3, eta4, eta5, eta6, eta7, eta8, eta9, eta10, eta11, eta12, eta13, eta14, eta15, eta16 = sp.symbols('eta1 eta2 eta3 eta4 eta5 eta6 eta7 eta8 eta9 eta10 eta11 eta12 eta13 eta14 eta15 eta16')\n",
    "D2_inv = diagonal_matrix = np.diag([1,1/(1-p),1/(1-p),1/(1-p),1/(1-p),1/(1-p),1/(1-p),1/(1-p),1/(1-p),1/(1-p),1/(1-p),\n",
    "                                    1/(1-p),1/(1-p),1/(1-p),1/(1-p),1/(1-p)])\n",
    "print(D2_inv)"
   ]
  },
  {
   "cell_type": "code",
   "execution_count": 19,
   "id": "d9d86e07",
   "metadata": {},
   "outputs": [],
   "source": [
    "m1 = np.diag(np.kron(I, I))\n",
    "m2 = np.diag(np.kron(I, X))\n",
    "m3 = np.diag(np.kron(I, Y))\n",
    "m4 = np.diag(np.kron(I, Z))\n",
    "m5 = np.diag(np.kron(X, I))\n",
    "m6 = np.diag(np.kron(X, X))\n",
    "m7 = np.diag(np.kron(X, Y))\n",
    "m8 = np.diag(np.kron(X, Z))\n",
    "m9 = np.diag(np.kron(Y, I))\n",
    "m10 = np.diag(np.kron(Y, X))\n",
    "m11 = np.diag(np.kron(Y, Y))\n",
    "m12 = np.diag(np.kron(Y, Z))\n",
    "m13 = np.diag(np.kron(Z, I))\n",
    "m14 = np.diag(np.kron(Z, X))\n",
    "m15 = np.diag(np.kron(Z, Y))\n",
    "m16 = np.diag(np.kron(Z, Z))"
   ]
  },
  {
   "cell_type": "code",
   "execution_count": 22,
   "id": "6f58f27f",
   "metadata": {},
   "outputs": [],
   "source": [
    "# Set up the system of equations as Ax = B\n",
    "A = sp.Matrix([m1,m2,m3,m4,m5,m6,m7,m8,m9,m10,m11,m12,m13,m14,m15,m16]).T\n",
    "B = np.diag(D2_inv)\n",
    "B = sp.Matrix(B)"
   ]
  },
  {
   "cell_type": "code",
   "execution_count": 23,
   "id": "bfc71871",
   "metadata": {},
   "outputs": [
    {
     "name": "stdout",
     "output_type": "stream",
     "text": [
      "{((p - 16)/(16*p - 16), p/(16*p - 16), p/(16*p - 16), p/(16*p - 16), p/(16*p - 16), p/(16*p - 16), p/(16*p - 16), p/(16*p - 16), p/(16*p - 16), p/(16*p - 16), p/(16*p - 16), p/(16*p - 16), p/(16*p - 16), p/(16*p - 16), p/(16*p - 16), p/(16*p - 16))}\n"
     ]
    }
   ],
   "source": [
    "# Solve for the coefficients eta1, eta2, eta3, eta4\n",
    "#etas = np.linalg.solve(A, B)\n",
    "solution = sp.linsolve((A, B), eta1, eta2, eta3, eta4,eta5, eta6, eta7, eta8, eta9, eta10, eta11, eta12, eta13, eta14, eta15, eta16)\n",
    "print(solution)"
   ]
  },
  {
   "cell_type": "markdown",
   "id": "692d8eba",
   "metadata": {},
   "source": [
    "Overhead"
   ]
  },
  {
   "cell_type": "code",
   "execution_count": 26,
   "id": "a0ca31fb",
   "metadata": {},
   "outputs": [
    {
     "data": {
      "text/latex": [
       "$\\displaystyle \\frac{15 p}{16 - 16 p} + \\frac{16 - p}{16 - 16 p}$"
      ],
      "text/plain": [
       "15*p/(16 - 16*p) + (16 - p)/(16 - 16*p)"
      ]
     },
     "execution_count": 26,
     "metadata": {},
     "output_type": "execute_result"
    }
   ],
   "source": [
    "1*(16-p)/(16-16*p) + 15*p/(16-16*p)"
   ]
  },
  {
   "cell_type": "code",
   "execution_count": null,
   "id": "a3cd0a52",
   "metadata": {},
   "outputs": [],
   "source": []
  }
 ],
 "metadata": {
  "kernelspec": {
   "display_name": "Python 3 (ipykernel)",
   "language": "python",
   "name": "python3"
  },
  "language_info": {
   "codemirror_mode": {
    "name": "ipython",
    "version": 3
   },
   "file_extension": ".py",
   "mimetype": "text/x-python",
   "name": "python",
   "nbconvert_exporter": "python",
   "pygments_lexer": "ipython3",
   "version": "3.10.9"
  }
 },
 "nbformat": 4,
 "nbformat_minor": 5
}
