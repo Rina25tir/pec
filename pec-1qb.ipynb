{
 "cells": [
  {
   "cell_type": "markdown",
   "id": "223fe66c-c730-4013-bfc9-905cca5f8083",
   "metadata": {},
   "source": [
    "## Probabilistic Error Cancellation"
   ]
  },
  {
   "cell_type": "code",
   "execution_count": 4,
   "id": "d574339a-060a-4866-8f17-695db10ba153",
   "metadata": {},
   "outputs": [],
   "source": [
    "#pip install nbconvert"
   ]
  },
  {
   "cell_type": "markdown",
   "id": "700b9a8c-4f90-4489-b2b4-b5c64c30504b",
   "metadata": {},
   "source": [
    "The goal is to evaluate the expectation value of an ideal circuit (made of noiseless gates):\n",
    "$$\n",
    "E^{*}(\\beta) = Tr[AU_{\\beta}(|0><0|^{\\otimes{n}})]\n",
    "$$"
   ]
  },
  {
   "cell_type": "markdown",
   "id": "740d4fca-5887-4469-8277-9514a244c61e",
   "metadata": {},
   "source": [
    "with A an observable and $ \\beta $ an ideal circuit."
   ]
  },
  {
   "cell_type": "markdown",
   "id": "7aeb9273-5238-4631-b2e0-3122b165058b",
   "metadata": {},
   "source": [
    "What we can measure with NISQ device, the noisy expectation value of an observable A on the final state produced by a noissy circuit $\\alpha $:"
   ]
  },
  {
   "cell_type": "markdown",
   "id": "3830bd7d-e525-4761-b5e5-25160b722844",
   "metadata": {},
   "source": [
    "$$ E(\\alpha) = Tr[AO_{\\alpha} (|0><0|^{\\otimes{n}})]  $$"
   ]
  },
  {
   "cell_type": "markdown",
   "id": "2940f658-0b95-4dfb-b48a-4d176f209b37",
   "metadata": {},
   "source": [
    "with $\\alpha$ noisy circuit, $O_{\\alpha}$ noisy unitary gate."
   ]
  },
  {
   "cell_type": "markdown",
   "id": "a5324c38-4b22-4976-895d-89c6bd3be465",
   "metadata": {},
   "source": [
    "The idea is to represent the ideal circuit as a quasi-probabilistic mixture of noisy ones.\n",
    "$$ U_{\\beta} = \\gamma_{\\beta} \\sum_{\\alpha \\in \\Omega_{L}} P_{\\beta}(\\alpha)\\sigma_{\\beta}(\\alpha) O_{\\alpha} $$"
   ]
  },
  {
   "cell_type": "markdown",
   "id": "98f5b958-3d00-4c8f-9714-42c3573b265a",
   "metadata": {},
   "source": [
    "with $U_{\\beta}$ the ideal gate acting on a density matrix $\\rho, \\gamma_{\\beta}$ the overhead, $\\alpha \\in \\Omega_{L}$ a random variable drawn from $P_{\\beta}(\\alpha)$."
   ]
  },
  {
   "cell_type": "markdown",
   "id": "97538296-9c7d-47b3-a24f-1e7cd6bd540f",
   "metadata": {},
   "source": [
    "Then, the ideal expectation value would be evaluated using noisy circuits:"
   ]
  },
  {
   "cell_type": "markdown",
   "id": "4f4c8a1c-21cf-47af-a556-044633f7c027",
   "metadata": {},
   "source": [
    "$$ E^{*}(\\beta) = \\gamma_{\\beta} \\sum_{\\alpha \\in \\Omega_L} P_{\\beta}(\\alpha) \\sigma_{\\beta}(\\alpha) E(\\alpha)  $$"
   ]
  },
  {
   "cell_type": "markdown",
   "id": "073ed0cc-7b95-492a-81e7-1624a9e9cab5",
   "metadata": {},
   "source": [
    "### The implementation"
   ]
  },
  {
   "cell_type": "raw",
   "id": "cfff49b8-cf7d-414b-a4d0-4c3fb9fd2819",
   "metadata": {},
   "source": [
    "Starting from ideal unitary gates to build noisy gates:"
   ]
  },
  {
   "cell_type": "markdown",
   "id": "6c89310d-3993-43ed-bad9-b35f98b4fb52",
   "metadata": {},
   "source": [
    "$$ U_{\\beta} = \\sum_{\\alpha=1}^p \\eta_{\\alpha} O_{\\alpha} $$\n",
    "$$ O_{\\alpha} = D_{1} P U_{\\beta} $$\n",
    "$$ U_{\\beta} = \\sum_{\\alpha=1}^{p} D_{1} P U_{\\beta} $$\n",
    "$$ (D_1)^{-1} =  \\sum_{\\alpha=1}^p \\eta_{\\alpha} P $$\n",
    "$$ (DP)^{-1} = \\frac{U_\\beta}{O_{\\alpha}} = 1 $$\n"
   ]
  },
  {
   "cell_type": "markdown",
   "id": "135ee789-37c9-4317-a8ea-231d76608335",
   "metadata": {},
   "source": [
    "where D is the depolarization channel defined as:\n",
    "$$ D(\\rho) = (1-\\epsilon)\\rho + \\epsilon \\frac{Tr(\\rho)}{2^n} $$\n",
    "where we need $\\rho$ expressed in Pauli basis: $[\\rho_{1}, \\rho_{x}, \\rho_{y}, \\rho_{z}]. $\n",
    "Here we write D_inv in Pauli basis:"
   ]
  },
  {
   "cell_type": "markdown",
   "id": "d05422f1-814e-4796-a5aa-61926f7d5be3",
   "metadata": {},
   "source": [
    "$$\n",
    "[\n",
    "D^{-1}=\n",
    "  \\begin{bmatrix}\n",
    "    1 & 0 & 0 & 0\\\\\n",
    "    0 & \\frac{1}{1-\\epsilon} & 0 & 0 \\\\\n",
    "    0 & 0 & \\frac{1}{1-\\epsilon} & 0 \\\\\n",
    "    0 & 0 & 0 & \\frac{1}{1-\\epsilon} \\\\\\\n",
    "  \\end{bmatrix}\n",
    "]\n",
    "$$"
   ]
  },
  {
   "cell_type": "markdown",
   "id": "3233c7a4-daea-4d5e-a6fe-5546fd393ba7",
   "metadata": {},
   "source": [
    "or equivalently expressed as:\n",
    "$$\n",
    "D_{1}^{-1} = \\eta_{1}\\mathbb{1} + \\eta_{2}X + \\eta_{3}Y + \\eta_{4}Z\n",
    "$$\n",
    "where $\\eta_{2} = \\eta_{3} = \\eta_{4} $.\n",
    "\n",
    "(in the code this matrix is implemented through function depolarization(e, base))"
   ]
  },
  {
   "cell_type": "markdown",
   "id": "a3884510-eeeb-49ee-b250-a5d8366c53bf",
   "metadata": {},
   "source": [
    "The input state must be expressed as a density matrix (dens function) and then in Pauli basis (state_base2 function). The same goes for the Pauli matrices $(\\mathbb{1}, X, Y, Z)$."
   ]
  },
  {
   "cell_type": "markdown",
   "id": "640bd95d-fd82-4288-96eb-d24e312d8ef1",
   "metadata": {},
   "source": [
    "First, how do we calculate the Pauli matrices in the Pauli basis? Let's take the X example.\n",
    "Suppose we have applied the X gate on some state $\\rho$.\n",
    "$$\\rho = \\mathbb{1}\\rho_{1} + \\sigma^{x}\\rho_{x} + \\sigma^{y}\\rho_{y} + \\sigma^{z}\\rho_{z} $$\n",
    "$$\\rho' = \\sigma^{x} U^{\\dagger}\\rho U \\sigma^{x}$$\n",
    "Then:\n",
    "$$ \\sigma^{x} \\mathbb{1} \\sigma^{x} = \\mathbb{1} $$\n",
    "$$ \\sigma^{x} \\sigma^{x} \\sigma^{x} = \\sigma^{x} $$\n",
    "$$ \\sigma^{x} \\sigma^{y} \\sigma^{x} = -\\sigma^{y} $$\n",
    "$$ \\sigma^{x} \\sigma^{z} \\sigma^{x} = -\\sigma^{z} $$"
   ]
  },
  {
   "cell_type": "markdown",
   "id": "af669f1f-0e64-4080-ba08-ca4d39e9b2e7",
   "metadata": {},
   "source": [
    "$$\n",
    "[\n",
    "X=\n",
    "  \\begin{bmatrix}\n",
    "    1 & 0 & 0 & 0\\\\\n",
    "    0 & 1 & 0 & 0 \\\\\n",
    "    0 & 0 & -1 & 0 \\\\\n",
    "    0 & 0 & 0 & -1 \\\\\\\n",
    "  \\end{bmatrix}\n",
    "]\n",
    "$$"
   ]
  },
  {
   "cell_type": "markdown",
   "id": "aad614e6-84de-4d50-82ec-79f7e30e01e7",
   "metadata": {},
   "source": [
    "We do the same for other Pauli matrices in Pauli basis. In this code we have implemented these steps in the  gate_base2 function."
   ]
  },
  {
   "cell_type": "markdown",
   "id": "1f04b5b9-e871-4ed1-95af-29c31c7bb4bd",
   "metadata": {},
   "source": [
    "We must also find the $\\rho...$ coefficients so that we can express the $\\rho$ state properly in the Pauli basis.\n",
    "We start from the definition:\n",
    "$$\\rho = \\mathbb{1}\\rho_{1} + \\sigma^{x}\\rho_{x} + \\sigma^{y}\\rho_{y} + \\sigma^{z}\\rho_{z} $$\n",
    "Every time we multiply this equation with one Pauli matrix and trace the expression in order to receive the corresponding $\\rho...$ coefficient. For example, if we multiply both sides of the previous equation by $\\sigma^{x}$ and trace it out, we will be able to have an expression for $\\rho_{x}$:\n",
    "\n",
    "$$ Tr[\\sigma^{x}\\rho] = Tr[\\sigma^{x}\\rho_{0} + \\mathbb{1}\\rho_{x} \\pm \\sigma^{z}\\rho_{y} \\mp \\sigma^{y}\\rho_{z}] $$\n",
    "which gives:\n",
    "$$ Tr[\\sigma_x \\rho] = Tr[\\mathbb{1} \\rho_{x}] $$\n",
    "$$ \\rho_{x} = \\frac{1}{2} Tr[\\sigma^{x} \\rho] $$\n",
    "\n",
    "We repeat the same process for other components and find each $\\rho...$ coefficient the same way. In this code this is implemented in the state_base2 function.\n",
    "The input state in Pauli basis will be expressed in vectorial form as:\n",
    "$$rho\\_vec = [\\rho_{0}, \\rho_{x}, \\rho_{y}, \\rho_{z}] $$"
   ]
  },
  {
   "cell_type": "code",
   "execution_count": null,
   "id": "9d17970d-6dfe-4e28-8010-4b5136762166",
   "metadata": {},
   "outputs": [],
   "source": []
  },
  {
   "cell_type": "markdown",
   "id": "498c301d-f119-4002-974d-fa73c3eba7e2",
   "metadata": {},
   "source": [
    "Let's proceed with calculating the inverse depolarization matrix as a quasi-probabilistic combination of the Pauli matrices in Pauli basis."
   ]
  },
  {
   "cell_type": "markdown",
   "id": "7d1811cf-bdbe-45d6-939a-646ad274ecbf",
   "metadata": {},
   "source": [
    "We plug in our newly found Pauli matrices in this equation:\n",
    "$$\n",
    "D_{1}^{-1} = \\eta_{1}\\mathbb{1} + \\eta_{\\alpha}X + \\eta_{\\alpha}Y + \\eta_{\\alpha}Z\n",
    "$$\n",
    "\n",
    "and we find the $\\eta$ coefficients which tell us with what probabilities we choose any Pauli gate to represent the inverse of the depolarization matrix. Some $\\eta$ coefficients can be negative, which is why we call this method \"quasi\" probabilistic, instead of \"probabilistic\". \n",
    "These coefficients depend on the probability of having a depolarization error, $\\epsilon$:\n",
    "$$ \\eta_{1} = 1 + \\frac{3\\epsilon}{4(1-\\epsilon)} $$\n",
    "$$ \\eta_{\\alpha} = -\\frac{\\epsilon}{4(1-\\epsilon)} $$"
   ]
  },
  {
   "cell_type": "markdown",
   "id": "f909142c-3ebb-4c7d-ad6a-7a6cbdce332f",
   "metadata": {},
   "source": [
    "In this code, I have implemented all these steps in the D_inverse function defined some cells below."
   ]
  },
  {
   "cell_type": "code",
   "execution_count": null,
   "id": "fc1516cd-6aca-45ca-a7a8-b0337691d192",
   "metadata": {},
   "outputs": [],
   "source": []
  },
  {
   "cell_type": "code",
   "execution_count": 8,
   "id": "2c501a57-c22b-4501-bb5d-574fdb002bfa",
   "metadata": {},
   "outputs": [],
   "source": [
    "import numpy as np  \n",
    "from matplotlib import pyplot as plt\n",
    "import random\n",
    "from random import randrange\n",
    "import math"
   ]
  },
  {
   "cell_type": "code",
   "execution_count": 9,
   "id": "c9a9bd84-1183-4a99-94e6-ceac6f8df8ef",
   "metadata": {},
   "outputs": [],
   "source": [
    "def dens(u1,u2):\n",
    "    dens=u1*u2\n",
    "    return dens"
   ]
  },
  {
   "cell_type": "code",
   "execution_count": 10,
   "id": "0eed657c-3530-49a7-8807-6a9a03627c57",
   "metadata": {},
   "outputs": [],
   "source": [
    "u_bra = np.array([[1,0]]) # row vector\n",
    "u_ket = np.array([[1,0]]).T # column vector\n",
    "rho=dens(u_ket, u_bra)\n",
    "X = np.array([[0,1],[1,0]])\n",
    "Y = np.array([[0,-1j],[1j,0]])\n",
    "Ydag = np.conj(Y).T\n",
    "Z = np.array([[1,0],[0,-1]])\n",
    "I = np.array([[1,0],[0,1]])"
   ]
  },
  {
   "cell_type": "code",
   "execution_count": 11,
   "id": "8ae8d42a-f631-4ce5-8dc3-8dec4c6cad48",
   "metadata": {},
   "outputs": [],
   "source": [
    "def Hadamard(N):\n",
    "    Hadamard = np.zeros((2**N,2**N))\n",
    "    for i in range(0, 2**N):\n",
    "        for j in range(0, 2**N):\n",
    "            pr = np.bitwise_and(i,j)\n",
    "            b = np.binary_repr(pr)\n",
    "            sum=0\n",
    "            for item in b:\n",
    "                sum+=int(item)\n",
    "            ij = sum%2\n",
    "            Hadamard[i][j]=1/(2**(N/2))*(-1)**(ij)\n",
    "            \n",
    "             \n",
    "    return Hadamard\n",
    "    \n",
    "\n",
    "\n",
    "np.ceil(Hadamard(1))\n",
    "H=Hadamard(1)\n",
    "H\n",
    "Hdag = np.transpose(Hadamard(1))"
   ]
  },
  {
   "cell_type": "code",
   "execution_count": 12,
   "id": "3e685980-e178-445d-bb75-d316c2fedc2e",
   "metadata": {},
   "outputs": [],
   "source": [
    "def trace(M):\n",
    "    t = 0\n",
    "    for i in range(0,len(M)):\n",
    "     for j in range(0,len(M)):\n",
    "        if i==j:\n",
    "           t += (M[i][j])\n",
    "        else:\n",
    "            t += 0\n",
    "        \n",
    "    return t"
   ]
  },
  {
   "cell_type": "code",
   "execution_count": 13,
   "id": "e74e5700-fe4a-4f32-9bbe-c5de43b3d9fb",
   "metadata": {},
   "outputs": [],
   "source": [
    "def mul(mat1, mat2):\n",
    "    return mat1.dot(mat2)\n",
    "\n",
    "mul(X,X)\n",
    "\n",
    "def mul3(mat1,mat2,mat3):\n",
    "    return (mat1.dot(mat2)).dot(mat3)"
   ]
  },
  {
   "cell_type": "markdown",
   "id": "01c64d70-17fc-4e3a-ac52-541fce2ae6d3",
   "metadata": {},
   "source": [
    "#### Multiply this expression by X to find coefficient rho_x:\n",
    "\n",
    "trace(X.dot(rho)) == trace(mul(X,I)* rho_0) + trace(mul(X,X)* rho_x) + trace(mul(X,Y)* rho_y) + trace(mul(X,Z)* rho_z)"
   ]
  },
  {
   "cell_type": "markdown",
   "id": "1fdc787d-baa4-4353-a6e4-6c984ba47b14",
   "metadata": {},
   "source": [
    "#### Inverse of D (depolarization matrix)\n",
    "Define the ita coefficients that relate the D_inverse matrix with Pauli basis.\\\n",
    "In general, these ita coefficients express the ideal operator U in terms of the noisy operators O."
   ]
  },
  {
   "cell_type": "markdown",
   "id": "435d59c4-19f4-4cad-b0e8-3f6fd8e22de1",
   "metadata": {},
   "source": [
    "### Express a state in a new base by calculating the rho_ coefficients of this new base"
   ]
  },
  {
   "cell_type": "markdown",
   "id": "041111f7-61a0-4f06-b966-572b2e06e279",
   "metadata": {},
   "source": [
    "Here the state is given in computational state as a density matrix between row vector u_bra and column vector u_ket."
   ]
  },
  {
   "cell_type": "code",
   "execution_count": 7,
   "id": "653838b9-47fc-49d7-b724-f57d5e2959ee",
   "metadata": {},
   "outputs": [
    {
     "name": "stdout",
     "output_type": "stream",
     "text": [
      "[0.5, 0.0, 0.0, 0.5]\n"
     ]
    },
    {
     "data": {
      "text/plain": [
       "array([0.5, 0. , 0. , 0.5])"
      ]
     },
     "execution_count": 7,
     "metadata": {},
     "output_type": "execute_result"
    }
   ],
   "source": [
    "from sympy import Symbol, symbols, solve\n",
    "\n",
    "\n",
    "\n",
    "def state_base2(state, base2):\n",
    "    \n",
    "\n",
    "# The symbols represent rho_ coefficients of the base 2\n",
    "    symbols('r(0:len(base2)')\n",
    "    coefflist = []\n",
    "    for i in symbols('r(0:len(base2)'):\n",
    "        coefflist.append(i)\n",
    "\n",
    "\n",
    "\n",
    "    rho_prime=0\n",
    "    for i in range(0,len(base2)):\n",
    "        rho_prime+=coefflist[i]*(base2[i]) #coefficients * base 2 elements\n",
    "    eq = rho_prime - rho # equal to 0 # Put everything on one side\n",
    "    sollist=[]\n",
    "    for j in range(0, len(base2)):\n",
    "        expr=trace(mul(base2[j],eq)) # Multiply with a matrix from base 2, and trace\n",
    "        solution=(solve(expr, coefflist[j])) # Solve for the rho coefficients\n",
    "        sollist.append(float(solution[0])) # Returns the values of the rho_coefficients\n",
    "        rho_vec = np.array(sollist)\n",
    "    print(sollist)\n",
    "    return rho_vec\n",
    "\n",
    "\n",
    "state_base2(rho,[I,X,Y,Z])"
   ]
  },
  {
   "cell_type": "markdown",
   "id": "06f6d5dc-1eb2-4899-a5f2-b483db27c107",
   "metadata": {},
   "source": [
    "#### A function to convert a matrix/gate from computational basis to any basis"
   ]
  },
  {
   "cell_type": "code",
   "execution_count": 8,
   "id": "34b7ff7e-f74d-4d67-8dc6-52e75aed6109",
   "metadata": {},
   "outputs": [
    {
     "data": {
      "text/plain": [
       "array([[ 1.,  0.,  0.,  0.],\n",
       "       [ 0.,  1.,  0.,  0.],\n",
       "       [ 0.,  0., -1.,  0.],\n",
       "       [ 0.,  0.,  0., -1.]])"
      ]
     },
     "execution_count": 8,
     "metadata": {},
     "output_type": "execute_result"
    }
   ],
   "source": [
    "def gate_base2(matrix, base2):\n",
    "\n",
    "    Matrix_base2 = np.zeros((len(base2),len(base2))) # initialize the matrix we want to find as zeros\n",
    "    for i in range(0, len(base2)):\n",
    "        #Multiply U*Baseelement*U\n",
    "        result=mul3(matrix,base2[i],matrix)\n",
    "        \n",
    "        #Very small values like e-17 -> 0 \n",
    "        for k in range(0,len(result)):\n",
    "            for l in range(0, len(result)):\n",
    "                result[k][l]=np.round(result[k][l])\n",
    "        \n",
    "        \n",
    "        #Return coefficients +1 or -1 that connect each element of old and new state in base2\n",
    "        for j in range(0, len(base2)):\n",
    "            if (result == base2[j]).all():\n",
    "                #print(i,j)\n",
    "                Matrix_base2[i][j]=1\n",
    "            elif (result == (-1)*base2[j]).all():\n",
    "                #print(i,-j)\n",
    "                Matrix_base2[i][j]=-1 \n",
    "    return Matrix_base2\n",
    "    \n",
    "\n",
    "rh=dens(u_ket, u_bra)      \n",
    "H_pauli=gate_base2(H, [I,X,Y,Z])\n",
    "#rh=dens(u_ket, u_bra)\n",
    "gate_base2(X, [I, X, Y, Z])"
   ]
  },
  {
   "cell_type": "code",
   "execution_count": 9,
   "id": "f0b8954d-7830-4ea8-b832-0fb786769022",
   "metadata": {},
   "outputs": [
    {
     "data": {
      "text/plain": [
       "(4, 4)"
      ]
     },
     "execution_count": 9,
     "metadata": {},
     "output_type": "execute_result"
    }
   ],
   "source": [
    "from itertools import repeat\n",
    "from sympy.solvers.solveset import linsolve\n",
    "def depolarization(e, base):\n",
    "  \n",
    "    symbols('r(0:len(base2)')\n",
    "    coefflist = []\n",
    "    for i in symbols('r0:4'):\n",
    "        coefflist.append(i)\n",
    "    coefflist2 = np.array(coefflist)\n",
    "    \n",
    "    ###################################\n",
    "    ### Depolarization matrix\n",
    "    \n",
    "    D1 = np.zeros((len(base),len(base))) # initialize the matrix we want to find as zeros\n",
    "    for i in range(0, len(base)):\n",
    "     for j in range(0, len(base)):\n",
    "        if i==j:\n",
    "            D1[i][j]=1-e\n",
    "        \n",
    "    D2 = np.zeros((len(base),len(base))) # initialize the matrix we want to find as zeros\n",
    "    for i in range(0, len(base)):\n",
    "     for j in range(0, len(base)):\n",
    "        if i==0 and j==0:\n",
    "            D2[i][j]=e\n",
    "    D12 = D1 + D2       \n",
    "    return D12\n",
    "    \n",
    "    \n",
    "   \n",
    "\n",
    "            \n",
    "    \n",
    "depolarization(0.1, [I,X,Y,Z]).shape"
   ]
  },
  {
   "cell_type": "code",
   "execution_count": 10,
   "id": "b07eb1bf-58f9-4841-817c-ec162981f662",
   "metadata": {},
   "outputs": [
    {
     "data": {
      "text/plain": [
       "(4, 4)"
      ]
     },
     "execution_count": 10,
     "metadata": {},
     "output_type": "execute_result"
    }
   ],
   "source": [
    "def D_inverse(e, base):   \n",
    "    symbols('r(0:len(base2)')\n",
    "    coefflist = []\n",
    "    for i in symbols('r0:4'):\n",
    "        coefflist.append(i)\n",
    "    coefflist2 = np.array(coefflist)\n",
    "    \n",
    "    ###################################\n",
    "    ### Depolarization matrix\n",
    "    \n",
    "    D1 = np.zeros((len(base),len(base))) # initialize the matrix we want to find as zeros\n",
    "    for i in range(0, len(base)):\n",
    "     for j in range(0, len(base)):\n",
    "        if i==j:\n",
    "            D1[i][j]=1-e\n",
    "        \n",
    "    D2 = np.zeros((len(base),len(base))) # initialize the matrix we want to find as zeros\n",
    "    for i in range(0, len(base)):\n",
    "     for j in range(0, len(base)):\n",
    "        if i==0 and j==0:\n",
    "            D2[i][j]=e\n",
    "    D12 = D1 + D2\n",
    "    \n",
    "    D_inv = np.zeros((len(base),len(base)))\n",
    "    for i in range(0, len(base)):\n",
    "        for j in range(0, len(base)):\n",
    "            if i==j:\n",
    "                D_inv[i][j]=D12[i][j]**(-1)\n",
    "    \n",
    "    ###################################\n",
    "    ### Calculate the ita coefficients of the inversed depolarization matrix\n",
    "    symbols('ita(0:4') # we have two different ita coefficients\n",
    "    ita_list = []\n",
    "    for i in symbols('ita0:1'):\n",
    "        ita_list.append(i)\n",
    "        ita_list.extend(repeat(symbols('ita1'), len(base)-1))\n",
    "    ita_list2 = np.array(ita_list)\n",
    "    \n",
    "\n",
    "    somelist=[]\n",
    "    for j in range(0, len(base)):\n",
    "        somelist.append((ita_list[j]*gate_base2(base[j], base)))\n",
    "     \n",
    "    \n",
    "                    \n",
    "    Sum = sum(somelist) \n",
    "    expr2 = np.subtract(Sum,D_inv)\n",
    "    \n",
    "    equations = []\n",
    "    for i in range(0, len(base)):\n",
    "        equations.append(expr2[i][i])\n",
    "    \n",
    "    ita_list3=[ita_list[0],ita_list[1]]\n",
    "    ita_solutions=(solve(equations,ita_list3))\n",
    "    \n",
    "    ita_values = (list(ita_solutions.values()))\n",
    "    \n",
    "    ita_floats=[]\n",
    "    for i in ita_values:\n",
    "        ita_floats.append(float(i))\n",
    "    ita_0 = ita_floats[0]\n",
    "    ita_1 = ita_floats[1]\n",
    "    \n",
    "    ### Express D_inv as ita0*I + ita1*X + ita1*Y + ita1*Z\n",
    "    \n",
    "    # First, ita0*I\n",
    "    D_inv_Pauli_1 = ita_0*gate_base2(base[0], base)\n",
    "    \n",
    "    # Then, ita1*X + ita1*Y + ita1*Z\n",
    "    D_inv_Pauli_2 = np.zeros((len(base),len(base)))\n",
    "    \n",
    "    for i in range(1, len(base)):\n",
    "    \n",
    "         D_inv_Pauli_2 += ita_1*(gate_base2(base[i], base))\n",
    "                                 \n",
    "    D_inv_Pauli = D_inv_Pauli_1 + D_inv_Pauli_2\n",
    "  \n",
    "    return D_inv_Pauli\n",
    "\n",
    "(D_inverse(0.1, [I, X, Y, Z])).shape"
   ]
  },
  {
   "cell_type": "markdown",
   "id": "4fe45984-55e5-4e5e-8785-d5d2c5ba275c",
   "metadata": {},
   "source": [
    "### A channel with a gate + noise, measuring fidelity, inverting noise, correcting fidelity"
   ]
  },
  {
   "cell_type": "markdown",
   "id": "1867a00a-f52f-411b-8fc6-54b0104714c8",
   "metadata": {},
   "source": [
    "Here we create a channel which takes a state rho_vec as input, converts it to Pauli basis, applies some gate to it (e.g. a Hadamard gate).\n",
    "Then it adds depolarizing noise with some probability $\\epsilon$. \n",
    "We project the fidelity of the $H*\\rho$ and $D*H*\\rho$. \\\n",
    "The fidelity will be less than 1 due to noise and it will keep decreasing as we perform more shots (circuit executions). \\\n",
    "Then we apply the D_inverse matrix to undo the noise and measure the fidelity again, which will be equal to 1, thus correcting the noise.\n",
    "\n"
   ]
  },
  {
   "cell_type": "code",
   "execution_count": 11,
   "id": "350a483d-5d0e-4c27-b2d4-d217cdafbdd1",
   "metadata": {},
   "outputs": [
    {
     "name": "stdout",
     "output_type": "stream",
     "text": [
      "[0.5, 0.0, 0.0, 0.5]\n"
     ]
    },
    {
     "data": {
      "image/png": "[encoded data removed]",
      "text/plain": [
       "<Figure size 640x480 with 1 Axes>"
      ]
     },
     "metadata": {},
     "output_type": "display_data"
    }
   ],
   "source": [
    "def channel(state, gate, base2, e, N):\n",
    "    \n",
    "    ### Express the state as a density matrix\n",
    "    u_bra = state # row vector\n",
    "    u_ket = state.T # column vector\n",
    "    rho = u_ket*u_bra\n",
    "    #####################################################################\n",
    "    \n",
    "    ### Express the gate/matrix in Pauli basis or any basis you define\n",
    "    Matrix_base2 = gate_base2(gate, base2)\n",
    "    #return Matrix_base2\n",
    "    \n",
    "    #####################################################################\n",
    "\n",
    "\n",
    "    ### Express the rho state in Pauli basis or any basis of choice\n",
    "    \n",
    "    rho_vec = state_base2(state, base2)\n",
    "    #####################################################################\n",
    "    ### Apply a gate on the rho state in Pauli basis\n",
    "    \n",
    "    rho_new = mul(Matrix_base2, rho_vec) \n",
    "     \n",
    "    \n",
    "    #####################################################################\n",
    "    \n",
    "    ### Plot the fidelity between the noisy state phi_N and noiseless rho_new\n",
    "    \n",
    "    nsamples3=[]\n",
    "    product3=0\n",
    "    fidelity3=0\n",
    "    D = depolarization(e, base2)\n",
    "    \n",
    "    psi=rho_new #Hadamard*state rho\n",
    "    \n",
    "    for i in range(1,N):\n",
    "        fidelity3=0\n",
    "        product3=0\n",
    "        phi_N3=mul(D**i,rho_new) # noisy state (with depolarization)\n",
    "        for j in range(0, len(phi_N3)):\n",
    "            product3 += phi_N3[j]*psi[j]\n",
    "        fidelity3=2*product3\n",
    "    \n",
    "    \n",
    "\n",
    "        nsamples3.append(fidelity3)\n",
    "    nsamples3\n",
    "\n",
    "    \n",
    "    plt.scatter(range(1,N), nsamples3,color='magenta',marker='<', label = \"unmitigated\")\n",
    "    plt.plot(range(1,N), nsamples3,'--', color='magenta')\n",
    "    plt.xlabel('Number of runs')    \n",
    "    plt.ylabel('fidelity') \n",
    "    plt.title('Fidelity for noisy runs')\n",
    "    \n",
    "    \n",
    "    #####################################################################\n",
    "    \n",
    "    ### Plot the fidelity after undoing the depolarization noise\n",
    "    \n",
    "    nsamples4=[]\n",
    "    \n",
    "   \n",
    "    for k in np.arange(1, 0, -0.2):\n",
    "        a = k*e\n",
    "        \n",
    "    \n",
    "        D_inv = D_inverse(a, base2)\n",
    "        \n",
    "        for i in range(1,N):\n",
    "            \n",
    "            fidelity4=0\n",
    "            product4=0\n",
    "            phi_N4=mul((mul(D, D_inv)**i),rho_new) # noisy state, but undoing the noise\n",
    "            for j in range(0, len(phi_N4)):\n",
    "                product4 += phi_N4[j]*psi[j]\n",
    "            fidelity4=2*product4\n",
    "    \n",
    "            nsamples4.append(fidelity4)\n",
    "        \n",
    "        var_k = float(\"{:.3f}\".format(k))\n",
    "        name = (f\" Depol error: {(var_k)}*e\")\n",
    "   \n",
    "\n",
    "        \n",
    "        plt.plot(range(1,N), nsamples4)\n",
    "        plt.scatter(range(1,N), nsamples4, alpha=0.5, label=name)\n",
    "        \n",
    "        plt.xlabel('Number of runs')    \n",
    "        plt.ylabel('fidelity') \n",
    "        plt.title('Fidelity after undoing noise')\n",
    "        plt.savefig('invertnoise.jpg')\n",
    "        \n",
    "        plt.legend()\n",
    "        nsamples4=[]\n",
    "    plt.scatter(range(1,N), nsamples3,color='magenta',marker='<', label = \"unmitigated\")\n",
    "    plt.savefig('invertnoise.jpg')\n",
    "     \n",
    "zero = np.array([1,0])\n",
    "channel(zero, H, [I, X, Y, Z], 0.23, 10)"
   ]
  },
  {
   "cell_type": "markdown",
   "id": "a6ab9d79-a9fa-4ffe-b331-1552a34d070a",
   "metadata": {},
   "source": []
  },
  {
   "cell_type": "code",
   "execution_count": null,
   "id": "72ac5ea8-33db-4e2d-82fb-cb6896bf6018",
   "metadata": {},
   "outputs": [],
   "source": []
  },
  {
   "cell_type": "code",
   "execution_count": null,
   "id": "67d13b86-f73d-4a0a-bc64-cc08875e78ec",
   "metadata": {},
   "outputs": [],
   "source": []
  },
  {
   "cell_type": "code",
   "execution_count": null,
   "id": "b46658ad-db6e-4188-ab9a-3b909bd09ba7",
   "metadata": {},
   "outputs": [],
   "source": []
  }
 ],
 "metadata": {
  "kernelspec": {
   "display_name": "Python 3 (ipykernel)",
   "language": "python",
   "name": "python3"
  },
  "language_info": {
   "codemirror_mode": {
    "name": "ipython",
    "version": 3
   },
   "file_extension": ".py",
   "mimetype": "text/x-python",
   "name": "python",
   "nbconvert_exporter": "python",
   "pygments_lexer": "ipython3",
   "version": "3.10.9"
  }
 },
 "nbformat": 4,
 "nbformat_minor": 5
}
